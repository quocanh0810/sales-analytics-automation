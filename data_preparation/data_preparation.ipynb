{
 "cells": [
  {
   "cell_type": "code",
   "execution_count": 35,
   "metadata": {},
   "outputs": [
    {
     "name": "stdout",
     "output_type": "stream",
     "text": [
      "Kiểm tra dữ liệu thiếu:\n",
      "ORDERNUMBER            0\n",
      "QUANTITYORDERED        0\n",
      "PRICEEACH              0\n",
      "ORDERLINENUMBER        0\n",
      "SALES                  0\n",
      "ORDERDATE              0\n",
      "STATUS                 0\n",
      "QTR_ID                 0\n",
      "MONTH_ID               0\n",
      "YEAR_ID                0\n",
      "PRODUCTLINE            0\n",
      "MSRP                   0\n",
      "PRODUCTCODE            0\n",
      "CUSTOMERNAME           0\n",
      "PHONE                  0\n",
      "ADDRESSLINE1           0\n",
      "ADDRESSLINE2           0\n",
      "CITY                   0\n",
      "STATE                  0\n",
      "POSTALCODE             0\n",
      "COUNTRY                0\n",
      "TERRITORY           2444\n",
      "CONTACTLASTNAME        0\n",
      "CONTACTFIRSTNAME       0\n",
      "DEALSIZE               0\n",
      "PAYMENTMETHOD          0\n",
      "dtype: int64\n"
     ]
    }
   ],
   "source": [
    "import pandas as pd\n",
    "\n",
    "df = pd.read_csv('../data_generation/fake_sales_data.csv')\n",
    "\n",
    "print(\"Kiểm tra dữ liệu thiếu:\")\n",
    "print(df.isnull().sum())"
   ]
  },
  {
   "cell_type": "code",
   "execution_count": 36,
   "metadata": {},
   "outputs": [
    {
     "name": "stdout",
     "output_type": "stream",
     "text": [
      "      ORDERNUMBER  QUANTITYORDERED  PRICEEACH  ORDERLINENUMBER    SALES  \\\n",
      "1           21431               79      84.27                1  6597.74   \n",
      "2           27610                6     114.45                5   677.77   \n",
      "6           13568               47      87.32                7  4073.68   \n",
      "16          26185               30     118.43               10  3459.15   \n",
      "17          20156               30      22.46                2   686.67   \n",
      "...           ...              ...        ...              ...      ...   \n",
      "9982        10983               54      61.65                1  3351.50   \n",
      "9984        28970               38      79.21                1  2909.11   \n",
      "9985        19577               78      60.82                2  4740.00   \n",
      "9986        19567               85      63.31                5  5370.80   \n",
      "9988        26686               91      54.84               10  4996.97   \n",
      "\n",
      "       ORDERDATE      STATUS  QTR_ID  MONTH_ID  YEAR_ID  ... ADDRESSLINE2  \\\n",
      "1     2025-03-31     Shipped       1         3     2025  ...     Apt. 045   \n",
      "2     2025-01-28    Resolved       1         1     2025  ...     Apt. 024   \n",
      "6     2025-05-06     On Hold       2         5     2025  ...    Suite 237   \n",
      "16    2025-06-21     Shipped       2         6     2025  ...    Suite 206   \n",
      "17    2025-04-01  In Process       2         4     2025  ...    Suite 764   \n",
      "...          ...         ...     ...       ...      ...  ...          ...   \n",
      "9982  2025-05-03     On Hold       2         5     2025  ...     Apt. 215   \n",
      "9984  2025-06-04     On Hold       2         6     2025  ...    Suite 350   \n",
      "9985  2025-02-08     Shipped       1         2     2025  ...    Suite 890   \n",
      "9986  2025-04-12     Shipped       2         4     2025  ...     Apt. 165   \n",
      "9988  2025-03-12     On Hold       1         3     2025  ...    Suite 374   \n",
      "\n",
      "                      CITY STATE POSTALCODE                   COUNTRY  \\\n",
      "1              Stevenshire    AS       9951                 Hong Kong   \n",
      "2             Benjaminport    MS      66607  Central African Republic   \n",
      "6               Conniebury    MD      92143                Luxembourg   \n",
      "16               Perezstad    IL      40749                   Liberia   \n",
      "17            Myersborough    OK      40298                   Belgium   \n",
      "...                    ...   ...        ...                       ...   \n",
      "9982  Port Christopherland    AZ      51629                     Qatar   \n",
      "9984      Lake Stephenbury    MT      98148                   Liberia   \n",
      "9985          South Shelly    HI      84707  Turks and Caicos Islands   \n",
      "9986        Pattersonmouth    KS      68137  Turks and Caicos Islands   \n",
      "9988        South Kristina    FL      29058                    Rwanda   \n",
      "\n",
      "     TERRITORY CONTACTLASTNAME CONTACTFIRSTNAME DEALSIZE  PAYMENTMETHOD  \n",
      "1          NaN        Harrison          Cameron    Large    Credit Card  \n",
      "2          NaN         Gilmore             Luke    Small         PayPal  \n",
      "6          NaN          Hansen           Robert   Medium    Credit Card  \n",
      "16         NaN           Burke          Barbara   Medium    Credit Card  \n",
      "17         NaN           Brown            Jesse    Small    Credit Card  \n",
      "...        ...             ...              ...      ...            ...  \n",
      "9982       NaN       Patterson         Nicholas   Medium         PayPal  \n",
      "9984       NaN          Harris           Thomas   Medium    Credit Card  \n",
      "9985       NaN           Brown           Claire   Medium    Credit Card  \n",
      "9986       NaN           Owens         Brittany    Large         PayPal  \n",
      "9988       NaN           Burke          Derrick   Medium    Credit Card  \n",
      "\n",
      "[2444 rows x 26 columns]\n"
     ]
    }
   ],
   "source": [
    "# Xem các dòng có giá trị NaN trong cột TERRITORY\n",
    "print(df[df['TERRITORY'].isna()])"
   ]
  },
  {
   "cell_type": "code",
   "execution_count": 37,
   "metadata": {},
   "outputs": [],
   "source": [
    "# Gán lại giá trị dựa trên COUNTRY\n",
    "df.loc[(df['TERRITORY'].isna()) & (df['COUNTRY'].isin(['USA', 'Canada'])), 'TERRITORY'] = 'NA'\n",
    "df.loc[(df['TERRITORY'].isna()) & (df['COUNTRY'].isin(['Germany', 'France'])), 'TERRITORY'] = 'EMEA'\n",
    "df.loc[(df['TERRITORY'].isna()) & (df['COUNTRY'].isin(['Japan', 'China'])), 'TERRITORY'] = 'APAC'\n",
    "df.loc[(df['TERRITORY'].isna()), 'TERRITORY'] = 'LATAM'  # Mặc định nếu không rõ"
   ]
  },
  {
   "cell_type": "code",
   "execution_count": 38,
   "metadata": {},
   "outputs": [
    {
     "name": "stdout",
     "output_type": "stream",
     "text": [
      "Số lượng giá trị thiếu sau xử lý:\n",
      "0\n",
      "\n",
      "Các giá trị unique trong cột TERRITORY:\n",
      "['APAC' 'LATAM' 'EMEA' 'NA']\n"
     ]
    }
   ],
   "source": [
    "# Kiểm tra số lượng giá trị thiếu\n",
    "print(\"Số lượng giá trị thiếu sau xử lý:\")\n",
    "print(df['TERRITORY'].isna().sum())\n",
    "\n",
    "# Kiểm tra giá trị unique của TERRITORY\n",
    "print(\"\\nCác giá trị unique trong cột TERRITORY:\")\n",
    "print(df['TERRITORY'].unique())"
   ]
  },
  {
   "cell_type": "code",
   "execution_count": 39,
   "metadata": {},
   "outputs": [
    {
     "name": "stdout",
     "output_type": "stream",
     "text": [
      "Dữ liệu đã làm sạch được lưu thành công.\n"
     ]
    }
   ],
   "source": [
    "# Xuất dữ liệu đã làm sạch ra file mới\n",
    "df.to_csv('../data_generation/cleaned_sales_data.csv', index=False)\n",
    "print(\"Dữ liệu đã làm sạch được lưu thành công.\")"
   ]
  },
  {
   "cell_type": "code",
   "execution_count": 40,
   "metadata": {},
   "outputs": [
    {
     "name": "stdout",
     "output_type": "stream",
     "text": [
      "⚠️ Cột TERRITORY có 9 giá trị trống.\n"
     ]
    }
   ],
   "source": [
    "import pandas as pd\n",
    "\n",
    "df_cleaned = pd.read_csv('../data_generation/cleaned_sales_data.csv', encoding='ISO-8859-1')\n",
    "\n",
    "# Kiểm tra các dòng bị thiếu cột hoặc giá trị trống\n",
    "for col in df_cleaned.columns:\n",
    "    null_count = df_cleaned[col].isnull().sum()\n",
    "    if null_count > 0:\n",
    "        print(f\"⚠️ Cột {col} có {null_count} giá trị trống.\")"
   ]
  },
  {
   "cell_type": "code",
   "execution_count": 41,
   "metadata": {},
   "outputs": [
    {
     "name": "stdout",
     "output_type": "stream",
     "text": [
      "Số lượng giá trị trống trong file gốc (cột TERRITORY): 9\n",
      "Các dòng có giá trị trống trong cột TERRITORY (file gốc):\n",
      "      ORDERNUMBER  QUANTITYORDERED  PRICEEACH  ORDERLINENUMBER    SALES  \\\n",
      "2266        24353               35      71.60                8  2389.87   \n",
      "2963        19646               39      58.72                9  2290.02   \n",
      "5331        26601               24      99.86                2  2316.86   \n",
      "5924        20677               26     109.33                4  2728.51   \n",
      "6294        28311               26     119.00                5  3143.17   \n",
      "6709        16871               19     130.30                1  2259.73   \n",
      "6896        25198               32      97.73                5  3188.44   \n",
      "6919        26152               60      72.96                9  4362.21   \n",
      "9201        23879               37      78.12                7  2918.96   \n",
      "\n",
      "       ORDERDATE      STATUS  QTR_ID  MONTH_ID  YEAR_ID  ... ADDRESSLINE2  \\\n",
      "2266  2025-02-13  In Process       1         2     2025  ...    Suite 522   \n",
      "2963  2025-05-20     Shipped       2         5     2025  ...    Suite 125   \n",
      "5331  2025-01-27     On Hold       1         1     2025  ...    Suite 497   \n",
      "5924  2025-06-28     Shipped       2         6     2025  ...    Suite 019   \n",
      "6294  2025-05-30     Shipped       2         5     2025  ...     Apt. 927   \n",
      "6709  2025-03-03     Shipped       1         3     2025  ...    Suite 428   \n",
      "6896  2025-05-15  In Process       2         5     2025  ...     Apt. 307   \n",
      "6919  2025-02-17  In Process       1         2     2025  ...     Apt. 558   \n",
      "9201  2025-03-02     Shipped       1         3     2025  ...    Suite 592   \n",
      "\n",
      "                        CITY STATE POSTALCODE COUNTRY TERRITORY  \\\n",
      "2266      Port Catherineport    WY      91746  Canada       NaN   \n",
      "2963               West Todd    AR      67596  Canada       NaN   \n",
      "5331            Martinezside    DE      22767  Canada       NaN   \n",
      "5924          Katherinehaven    ND      67034  Canada       NaN   \n",
      "6294              Stuartside    WI      27633  Canada       NaN   \n",
      "6709     South Kathleenburgh    OH      83101  Canada       NaN   \n",
      "6896         Port Stevenfurt    OH       9032  Canada       NaN   \n",
      "6919  South Christophermouth    LA      46019  Canada       NaN   \n",
      "9201             South Tracy    SD       4204  Canada       NaN   \n",
      "\n",
      "     CONTACTLASTNAME CONTACTFIRSTNAME DEALSIZE  PAYMENTMETHOD  \n",
      "2266           Perry         Jennifer   Medium           Cash  \n",
      "2963       Fernandez            Kiara   Medium  Bank Transfer  \n",
      "5331           Solis            Jesse   Medium           Cash  \n",
      "5924         Stewart          William   Medium    Credit Card  \n",
      "6294            Hall           Joshua   Medium  Bank Transfer  \n",
      "6709             Cox             Luis   Medium         PayPal  \n",
      "6896          Ramsey             Jane   Medium         PayPal  \n",
      "6919         Vazquez          William   Medium         PayPal  \n",
      "9201            Shah          Jessica   Medium    Credit Card  \n",
      "\n",
      "[9 rows x 26 columns]\n"
     ]
    }
   ],
   "source": [
    "import pandas as pd\n",
    "\n",
    "df_original = pd.read_csv('../data_generation/cleaned_sales_data.csv', encoding='ISO-8859-1')\n",
    "\n",
    "# Kiểm tra số lượng giá trị trống trong cột TERRITORY\n",
    "missing_original = df_original['TERRITORY'].isnull().sum()\n",
    "print(f\"Số lượng giá trị trống trong file gốc (cột TERRITORY): {missing_original}\")\n",
    "\n",
    "# Hiển thị các hàng có giá trị trống trong cột TERRITORY\n",
    "print(\"Các dòng có giá trị trống trong cột TERRITORY (file gốc):\")\n",
    "print(df_original[df_original['TERRITORY'].isnull()])"
   ]
  },
  {
   "cell_type": "code",
   "execution_count": 42,
   "metadata": {},
   "outputs": [
    {
     "name": "stdout",
     "output_type": "stream",
     "text": [
      "Số lượng giá trị trống sau sửa: 0\n",
      "Đã sửa lỗi và ghi lại file cleaned.\n"
     ]
    }
   ],
   "source": [
    "import pandas as pd\n",
    "\n",
    "# Đọc file cleaned\n",
    "df_cleaned = pd.read_csv('../data_generation/cleaned_sales_data.csv', encoding='ISO-8859-1')\n",
    "\n",
    "import random\n",
    "\n",
    "# Điền giá trị ngẫu nhiên\n",
    "df_cleaned['TERRITORY'].fillna(lambda: random.choice(['NA', 'EMEA', 'APAC', 'LATAM']), inplace=True)\n",
    "\n",
    "missing_cleaned = df_cleaned['TERRITORY'].isnull().sum()\n",
    "print(f\"Số lượng giá trị trống sau sửa: {missing_cleaned}\")\n",
    "\n",
    "# Ghi đè file cleaned sau khi sửa\n",
    "df_cleaned.to_csv('../data_generation/cleaned_sales_data.csv', index=False)\n",
    "print(\"Đã sửa lỗi và ghi lại file cleaned.\")"
   ]
  },
  {
   "cell_type": "code",
   "execution_count": 43,
   "metadata": {},
   "outputs": [
    {
     "name": "stdout",
     "output_type": "stream",
     "text": [
      "Tổng số bản ghi: 10000\n",
      "Số mã đơn hàng duy nhất: 10000\n",
      "Không có mã đơn hàng trùng lặp.\n"
     ]
    }
   ],
   "source": [
    "import pandas as pd\n",
    "\n",
    "df = pd.read_csv('../data_generation/cleaned_sales_data.csv')\n",
    "\n",
    "# Kiểm tra số lượng ordernumber unique\n",
    "unique_count = df['ORDERNUMBER'].nunique()\n",
    "total_count = len(df)\n",
    "\n",
    "print(f\"Tổng số bản ghi: {total_count}\")\n",
    "print(f\"Số mã đơn hàng duy nhất: {unique_count}\")\n",
    "\n",
    "if unique_count == total_count:\n",
    "    print(\"Không có mã đơn hàng trùng lặp.\")\n",
    "else:\n",
    "    print(\"Có mã đơn hàng trùng lặp.\")"
   ]
  }
 ],
 "metadata": {
  "kernelspec": {
   "display_name": "Python 3",
   "language": "python",
   "name": "python3"
  },
  "language_info": {
   "codemirror_mode": {
    "name": "ipython",
    "version": 3
   },
   "file_extension": ".py",
   "mimetype": "text/x-python",
   "name": "python",
   "nbconvert_exporter": "python",
   "pygments_lexer": "ipython3",
   "version": "3.7.2"
  }
 },
 "nbformat": 4,
 "nbformat_minor": 2
}
